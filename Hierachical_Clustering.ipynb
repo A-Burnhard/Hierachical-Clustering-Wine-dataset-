{
  "nbformat": 4,
  "nbformat_minor": 0,
  "metadata": {
    "colab": {
      "provenance": [],
      "authorship_tag": "ABX9TyMHjne6eP0LF6/y7CDVdFfv",
      "include_colab_link": true
    },
    "kernelspec": {
      "name": "python3",
      "display_name": "Python 3"
    },
    "language_info": {
      "name": "python"
    }
  },
  "cells": [
    {
      "cell_type": "markdown",
      "metadata": {
        "id": "view-in-github",
        "colab_type": "text"
      },
      "source": [
        "<a href=\"https://colab.research.google.com/github/A-Burnhard/Hierachical-Clustering-Wine-dataset-/blob/main/Hierachical_Clustering.ipynb\" target=\"_parent\"><img src=\"https://colab.research.google.com/assets/colab-badge.svg\" alt=\"Open In Colab\"/></a>"
      ]
    },
    {
      "cell_type": "code",
      "execution_count": 1,
      "metadata": {
        "id": "S29xkLpx8YjA"
      },
      "outputs": [],
      "source": [
        "import pandas as pd\n",
        "import matplotlib.pyplot as plt\n",
        "from sklearn.cluster import AgglomerativeClustering\n",
        "from sklearn.preprocessing import StandardScaler\n",
        "from scipy.cluster.hierarchy import dendrogram"
      ]
    },
    {
      "cell_type": "code",
      "source": [
        "#Loading or importing  wine dataset to notebook\n",
        "cols = [\"class\", \"Alcohol\", \"Malicacid\", \"Ash\", \"Alcalinity_of_ash\", \"Magnesium\", \"Total_phenols\", \"Flavanoids\", \"Nonflavanoid_phenols\", \"Proanthocyanins\", \"Color_intensity\", \"Hue\", \"0D280_0D315_of_diluted_wines\", \"Proline\" ]\n",
        "wine_data = pd.read_csv(\"wine.data\", names = cols)\n",
        "wine_data.head()"
      ],
      "metadata": {
        "id": "eByTW-HC-EK7"
      },
      "execution_count": null,
      "outputs": []
    },
    {
      "cell_type": "code",
      "source": [
        "# Extract the input attributes (columns 1-13)\n",
        "X = wine_data.iloc[:, 1:14]\n",
        "print(X)"
      ],
      "metadata": {
        "id": "4z7Bwid4-Pd0"
      },
      "execution_count": null,
      "outputs": []
    },
    {
      "cell_type": "markdown",
      "source": [
        "**Normalization of input attributes**"
      ],
      "metadata": {
        "id": "0r6fNhkq-WR8"
      }
    },
    {
      "cell_type": "code",
      "source": [
        "# Perform normalization on the input attributes\n",
        "scaler = StandardScaler()\n",
        "X_scaled = scaler.fit_transform(X)\n"
      ],
      "metadata": {
        "id": "ScJHcm2e-ap1"
      },
      "execution_count": 4,
      "outputs": []
    },
    {
      "cell_type": "markdown",
      "source": [
        "**Defining linkage method**"
      ],
      "metadata": {
        "id": "_IxkmYph-mLT"
      }
    },
    {
      "cell_type": "code",
      "source": [
        "linkage_methods = ['single', 'complete', 'average']"
      ],
      "metadata": {
        "id": "jDzJ7Rlh-rnR"
      },
      "execution_count": 5,
      "outputs": []
    },
    {
      "cell_type": "markdown",
      "source": [
        "**Perform hierarchical clustering for each linkage method**"
      ],
      "metadata": {
        "id": "ifKNfXK5-vTF"
      }
    }
  ]
}